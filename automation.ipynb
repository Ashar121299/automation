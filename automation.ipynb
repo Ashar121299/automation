{
 "cells": [
  {
   "cell_type": "markdown",
   "metadata": {},
   "source": [
    "## Read the data from the provided dataset Daily Report"
   ]
  },
  {
   "cell_type": "code",
   "execution_count": 46,
   "metadata": {},
   "outputs": [
    {
     "name": "stdout",
     "output_type": "stream",
     "text": [
      "              Meeting ID                      Topic              Start Time  \\\n",
      "0            94260712307         BTEC Fall Training  11/08/2022 08:57:15 AM   \n",
      "1   Name (Original Name)                 User Email               Join Time   \n",
      "2           Boshra Jaber           b.jaber@ltuc.com  11/08/2022 08:57:15 AM   \n",
      "3     Mostafa Albelbeisi  20020480@student.ltuc.com  11/08/2022 08:57:34 AM   \n",
      "4    Mohannad Ghabashneh  22034356@student.ltuc.com  11/08/2022 08:57:35 AM   \n",
      "..                   ...                        ...                     ...   \n",
      "61            Tahani Ali                        NaN  11/08/2022 10:42:45 AM   \n",
      "62            Tahani Ali                        NaN  11/08/2022 10:46:22 AM   \n",
      "63           رزان عويضات                        NaN  11/08/2022 09:36:33 AM   \n",
      "64            Tahani Ali                        NaN  11/08/2022 10:44:22 AM   \n",
      "65           Walaa Atiyh                        NaN  11/08/2022 11:01:33 AM   \n",
      "\n",
      "                  End Time          User Email Duration (Minutes)  \\\n",
      "0   11/08/2022 11:11:34 AM    b.Jaber@ltuc.com                135   \n",
      "1               Leave Time  Duration (Minutes)              Guest   \n",
      "2   11/08/2022 09:41:03 AM                  44                 No   \n",
      "3   11/08/2022 11:11:34 AM                 134                 No   \n",
      "4   11/08/2022 11:11:34 AM                 134                 No   \n",
      "..                     ...                 ...                ...   \n",
      "61  11/08/2022 10:44:21 AM                   2                Yes   \n",
      "62  11/08/2022 11:11:34 AM                  26                Yes   \n",
      "63  11/08/2022 09:37:59 AM                   2                Yes   \n",
      "64  11/08/2022 10:45:39 AM                   2                Yes   \n",
      "65  11/08/2022 11:11:34 AM                  11                Yes   \n",
      "\n",
      "         Participants       Unnamed: 7  \n",
      "0                  64              NaN  \n",
      "1   Recording Consent  In Waiting Room  \n",
      "2                 NaN               No  \n",
      "3                 NaN               No  \n",
      "4                 NaN               No  \n",
      "..                ...              ...  \n",
      "61                NaN               No  \n",
      "62                NaN               No  \n",
      "63                NaN               No  \n",
      "64                NaN               No  \n",
      "65                NaN               No  \n",
      "\n",
      "[66 rows x 8 columns]\n"
     ]
    }
   ],
   "source": [
    "import pandas as pd \n",
    "df=pd.read_csv(\"data.csv\")\n",
    "\n",
    "print (df)\n"
   ]
  },
  {
   "cell_type": "markdown",
   "metadata": {},
   "source": [
    "## Divide the data into DataFrame as you see fit."
   ]
  },
  {
   "cell_type": "code",
   "execution_count": 47,
   "metadata": {},
   "outputs": [
    {
     "name": "stderr",
     "output_type": "stream",
     "text": [
      "/tmp/ipykernel_3888/1256275268.py:5: SettingWithCopyWarning: \n",
      "A value is trying to be set on a copy of a slice from a DataFrame\n",
      "\n",
      "See the caveats in the documentation: https://pandas.pydata.org/pandas-docs/stable/user_guide/indexing.html#returning-a-view-versus-a-copy\n",
      "  df2.drop(df2.index[0],inplace=True)\n"
     ]
    }
   ],
   "source": [
    "df1,df2=df[:1],df[1:]\n",
    "meeting_duration=int(df1[\"Duration (Minutes)\"][0])\n",
    "Meeting_ID=df1[\"Meeting ID\"][0]\n",
    "df2.columns=df2.iloc[0]\n",
    "df2.drop(df2.index[0],inplace=True)"
   ]
  },
  {
   "cell_type": "markdown",
   "metadata": {},
   "source": [
    "## Get the Students ID."
   ]
  },
  {
   "cell_type": "code",
   "execution_count": 48,
   "metadata": {},
   "outputs": [
    {
     "name": "stderr",
     "output_type": "stream",
     "text": [
      "/tmp/ipykernel_3888/2788550987.py:1: SettingWithCopyWarning: \n",
      "A value is trying to be set on a copy of a slice from a DataFrame.\n",
      "Try using .loc[row_indexer,col_indexer] = value instead\n",
      "\n",
      "See the caveats in the documentation: https://pandas.pydata.org/pandas-docs/stable/user_guide/indexing.html#returning-a-view-versus-a-copy\n",
      "  df2[\"Student ID\"]=df2[\"User Email\"].str.extract(pat='(^[0-9]*)')\n"
     ]
    }
   ],
   "source": [
    "df2[\"Student ID\"]=df2[\"User Email\"].str.extract(pat='(^[0-9]*)')"
   ]
  },
  {
   "cell_type": "markdown",
   "metadata": {},
   "source": [
    "## Calculate the sum of the duration each student spends in the meeting based on their IDs."
   ]
  },
  {
   "cell_type": "code",
   "execution_count": 49,
   "metadata": {},
   "outputs": [
    {
     "name": "stderr",
     "output_type": "stream",
     "text": [
      "/tmp/ipykernel_3888/1212074725.py:1: SettingWithCopyWarning: \n",
      "A value is trying to be set on a copy of a slice from a DataFrame.\n",
      "Try using .loc[row_indexer,col_indexer] = value instead\n",
      "\n",
      "See the caveats in the documentation: https://pandas.pydata.org/pandas-docs/stable/user_guide/indexing.html#returning-a-view-versus-a-copy\n",
      "  df2[\"Total\"]=df2[\"Duration (Minutes)\"].astype(int)\n"
     ]
    }
   ],
   "source": [
    "df2[\"Total\"]=df2[\"Duration (Minutes)\"].astype(int)\n",
    "df2=df2.groupby(\"Student ID\",as_index=False).sum(numeric_only=True)"
   ]
  },
  {
   "cell_type": "markdown",
   "metadata": {},
   "source": [
    "## specify the state of each student"
   ]
  },
  {
   "cell_type": "code",
   "execution_count": 56,
   "metadata": {},
   "outputs": [
    {
     "name": "stdout",
     "output_type": "stream",
     "text": [
      "0                     present\n",
      "1     19012233        present\n",
      "2     20019322        present\n",
      "3        20019523        late\n",
      "4     20020480        present\n",
      "5        21023784        late\n",
      "6     22032930        present\n",
      "7     22033848        present\n",
      "8     22034140        present\n",
      "9      22034185        absent\n",
      "10    22034186        present\n",
      "11    22034189        present\n",
      "12    22034245        present\n",
      "13    22034252        present\n",
      "14    22034270        present\n",
      "15    22034278        present\n",
      "16    22034284        present\n",
      "17    22034289        present\n",
      "18       22034306        late\n",
      "19       22034311        late\n",
      "20       22034319        late\n",
      "21    22034326        present\n",
      "22    22034356        present\n",
      "23    22034359        present\n",
      "24    22034361        present\n",
      "25     22034362        absent\n",
      "26    22034365        present\n",
      "27    22034368        present\n",
      "28       22034371        late\n",
      "dtype: object\n"
     ]
    }
   ],
   "source": [
    "df2[\"Status\"]=['present' if x >= meeting_duration-10 else 'absent' if x < meeting_duration-20 else \n",
    "'late'for x in df2[\"Total\"]]\n",
    "\n",
    "print(df2[\"Student ID\"]+\"        \"+ df2['Status'])"
   ]
  }
 ],
 "metadata": {
  "kernelspec": {
   "display_name": "Python 3.10.6 ('.venv': venv)",
   "language": "python",
   "name": "python3"
  },
  "language_info": {
   "codemirror_mode": {
    "name": "ipython",
    "version": 3
   },
   "file_extension": ".py",
   "mimetype": "text/x-python",
   "name": "python",
   "nbconvert_exporter": "python",
   "pygments_lexer": "ipython3",
   "version": "3.10.6"
  },
  "orig_nbformat": 4,
  "vscode": {
   "interpreter": {
    "hash": "0380e49476be6e64043d7c97b6b37425e0d3d073da08e34bc60bb09e120b0810"
   }
  }
 },
 "nbformat": 4,
 "nbformat_minor": 2
}
